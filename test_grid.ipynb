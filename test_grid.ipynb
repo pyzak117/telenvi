{
 "cells": [
  {
   "cell_type": "code",
   "execution_count": 1,
   "metadata": {},
   "outputs": [
    {
     "name": "stdout",
     "output_type": "stream",
     "text": [
      "chips\n",
      "20190727NDVI.tif loaded\n",
      "\n",
      "ndvi100.tif OK\n"
     ]
    }
   ],
   "source": [
    "from raster_tools import openGeoRaster\n",
    "s = openGeoRaster(r\"H:\\REMOTE_S\\S1_PROJETS_R2\\M_HOUEL_PP_SISTEMA\\CORRELATION_VG_SAR\\data\\IMAGES\\OPTICAL\\20190727\\20190727NDVI.tif\", \n",
    "res=1000)\n",
    "s.exportAsRasterFile(\"c:/users/eudes/desktop/ndvi100.tif\")"
   ]
  },
  {
   "cell_type": "code",
   "execution_count": 2,
   "metadata": {},
   "outputs": [
    {
     "name": "stdout",
     "output_type": "stream",
     "text": [
      "row 0/41\n",
      "row 1/41\n",
      "row 2/41\n",
      "row 3/41\n",
      "row 4/41\n",
      "row 5/41\n",
      "row 6/41\n",
      "row 7/41\n",
      "row 8/41\n",
      "row 9/41\n",
      "row 10/41\n",
      "row 11/41\n",
      "row 12/41\n",
      "row 13/41\n",
      "row 14/41\n",
      "row 15/41\n",
      "row 16/41\n",
      "row 17/41\n",
      "row 18/41\n",
      "row 19/41\n",
      "row 20/41\n",
      "row 21/41\n",
      "row 22/41\n",
      "row 23/41\n",
      "row 24/41\n",
      "row 25/41\n",
      "row 26/41\n",
      "row 27/41\n",
      "row 28/41\n",
      "row 29/41\n",
      "row 30/41\n",
      "row 31/41\n",
      "row 32/41\n",
      "row 33/41\n",
      "row 34/41\n",
      "row 35/41\n",
      "row 36/41\n",
      "row 37/41\n",
      "row 38/41\n",
      "row 39/41\n",
      "row 40/41\n",
      "row 41/41\n"
     ]
    },
    {
     "name": "stderr",
     "output_type": "stream",
     "text": [
      "C:\\Users\\Eudes\\anaconda3\\envs\\edgesII\\lib\\site-packages\\geopandas\\io\\file.py:362: FutureWarning: pandas.Int64Index is deprecated and will be removed from pandas in a future version. Use pandas.Index with the appropriate dtype instead.\n",
      "  pd.Int64Index,\n"
     ]
    }
   ],
   "source": [
    "t = s.geoData.compute_gdf_grid()\n",
    "t.to_file(\"c:/users/eudes/desktop/machin.shp\")"
   ]
  }
 ],
 "metadata": {
  "interpreter": {
   "hash": "c346ff590eafd9543ecca2cb609504fa311ce18823a15e70111ba15a8f956224"
  },
  "kernelspec": {
   "display_name": "Python 3.10.4 ('edgesII')",
   "language": "python",
   "name": "python3"
  },
  "language_info": {
   "codemirror_mode": {
    "name": "ipython",
    "version": 3
   },
   "file_extension": ".py",
   "mimetype": "text/x-python",
   "name": "python",
   "nbconvert_exporter": "python",
   "pygments_lexer": "ipython3",
   "version": "3.10.4"
  },
  "orig_nbformat": 4
 },
 "nbformat": 4,
 "nbformat_minor": 2
}
