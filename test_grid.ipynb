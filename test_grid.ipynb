{
 "cells": [
  {
   "cell_type": "code",
   "execution_count": 1,
   "metadata": {},
   "outputs": [],
   "source": [
    "from raster_tools import GeoGrid, print_shapely_geom\n",
    "A = GeoGrid(447326.0, 1420076.7, 100, -100, 30, 45, crs=\"epsg:32632\")\n",
    "B = GeoGrid(448424.6, 1419352.8, 100, -100, 30, 45, crs=\"epsg:32632\")"
   ]
  },
  {
   "cell_type": "code",
   "execution_count": 2,
   "metadata": {},
   "outputs": [
    {
     "name": "stderr",
     "output_type": "stream",
     "text": [
      "C:\\Users\\Eudes\\anaconda3\\envs\\edgesII\\lib\\site-packages\\geopandas\\io\\file.py:362: FutureWarning: pandas.Int64Index is deprecated and will be removed from pandas in a future version. Use pandas.Index with the appropriate dtype instead.\n",
      "  pd.Int64Index,\n"
     ]
    }
   ],
   "source": [
    "import numpy as np\n",
    "C = A.common_extent_with(B)\n",
    "print_shapely_geom(C, \"c:/users/eudes/desktop/C.shp\", A.crs)"
   ]
  }
 ],
 "metadata": {
  "interpreter": {
   "hash": "c346ff590eafd9543ecca2cb609504fa311ce18823a15e70111ba15a8f956224"
  },
  "kernelspec": {
   "display_name": "Python 3.10.4 ('edgesII')",
   "language": "python",
   "name": "python3"
  },
  "language_info": {
   "codemirror_mode": {
    "name": "ipython",
    "version": 3
   },
   "file_extension": ".py",
   "mimetype": "text/x-python",
   "name": "python",
   "nbconvert_exporter": "python",
   "pygments_lexer": "ipython3",
   "version": "3.10.4"
  },
  "orig_nbformat": 4
 },
 "nbformat": 4,
 "nbformat_minor": 2
}
