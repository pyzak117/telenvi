{
 "cells": [
  {
   "cell_type": "code",
   "execution_count": 1,
   "metadata": {},
   "outputs": [],
   "source": [
    "\"\"\"\n",
    "Tests de fonctionnalités de la version 3.0.0 du module telenvi\n",
    "données : deux images acquises entre avril et juin 2022, au dessus du massif montagneux du Tian Shan (Asie centrale).\n",
    "L'une est issue du capteur Landsat 8, l'autre par Sentinel 2.\n",
    "\"\"\"\n",
    "# from telenvi import raster_tools as rt\n",
    "import raster_tools as rt\n",
    "from PIL import Image\n",
    "import os\n",
    "b2_ls8_path = r\"/media/zak/TD002/REMOTE_S/TELENVI_PACKAGE/tests/data/LC08_L1_20220411/LC08_L1TP_147031_20220411_20220419_02_T1_B2.TIF\"\n",
    "b2_s2a_path = r\"/media/zak/TD002/REMOTE_S/TELENVI_PACKAGE/tests/data/S2A_L1C_20220603/T44TMM_20220603T052651_B02.jp2\"\n",
    "cuts = r\"/media/zak/TD002/REMOTE_S/TELENVI_PACKAGE/tests/data/cuts/cuts.shp\""
   ]
  },
  {
   "cell_type": "code",
   "execution_count": null,
   "metadata": {},
   "outputs": [],
   "source": [
    "\"\"\"\n",
    "1 - Fonctionnalités associées à la fonction d'ouverture de fichiers rasters\n",
    "\"\"\"\n",
    "pass"
   ]
  },
  {
   "cell_type": "code",
   "execution_count": null,
   "metadata": {},
   "outputs": [],
   "source": [
    "\"\"\"\n",
    "# 1.1 - Crop manuel\n",
    "\"\"\"\n",
    "pass"
   ]
  },
  {
   "cell_type": "code",
   "execution_count": null,
   "metadata": {},
   "outputs": [],
   "source": [
    "# 1.1.1 - Depuis des polygones contenus dans des shapefiles\n",
    "# Ci-dessous, un aperçu de l'emprise du raster étudié ainsi que de celles des différents polygones sur lequel on va le croper successivement\n",
    "# En nuances de oranges, une image Sentinel 2\n",
    "# En bleu, LS8\n",
    "apercu = r\"/media/zak/TD002/REMOTE_S/TELENVI_PACKAGE/tests/figures/localisation_polygones.png\"\n",
    "im = Image.open(apercu)\n",
    "im"
   ]
  },
  {
   "cell_type": "code",
   "execution_count": null,
   "metadata": {},
   "outputs": [],
   "source": [
    "# Crops pour chaque image et chaque polygone\n",
    "for raster_file in [b2_ls8_path, b2_s2a_path]:\n",
    "    print(os.path.basename(raster_file))\n",
    "    for polygon in range(0,4):\n",
    "        print(f\"numero polygone = {polygon}\")\n",
    "        crop = rt.openGeoRaster(\n",
    "            rasterPath = raster_file,\n",
    "            crop = cuts,\n",
    "            pol = polygon,\n",
    "            verbose = False)\n",
    "        crop.quickVisual()"
   ]
  },
  {
   "cell_type": "code",
   "execution_count": null,
   "metadata": {},
   "outputs": [],
   "source": []
  },
  {
   "cell_type": "code",
   "execution_count": null,
   "metadata": {},
   "outputs": [],
   "source": [
    "# 1.1.2 - Depuis un autre raster\n",
    "crop_ls8_from_s2a = rt.openGeoRaster(\n",
    "    rasterPath = b2_ls8_path,\n",
    "    crop = b2_s2a_path)\n",
    "crop_ls8_from_s2a"
   ]
  },
  {
   "cell_type": "code",
   "execution_count": null,
   "metadata": {},
   "outputs": [],
   "source": [
    "from osgeo import gdal\n",
    "ds = gdal.Open(b2_ls8_path)\n",
    "type(ds)"
   ]
  },
  {
   "cell_type": "code",
   "execution_count": null,
   "metadata": {},
   "outputs": [],
   "source": [
    "# 1.1.3 - Depuis un index de lignes / colonnes\n",
    "col1, col2 = 3000, 4000\n",
    "row1, row2 = 2000, 3000\n",
    "crop_s2a_from_index = rt.openGeoRaster(\n",
    "    rasterPath = b2_s2a_path,\n",
    "    crop = (col1, row1, col2, row2))\n",
    "\n",
    "# Print metadata\n",
    "print(crop_s2a_from_index.shape())\n",
    "print(crop_s2a_from_index.getPixelSize())\n",
    "\n",
    "crop_s2a_from_index"
   ]
  },
  {
   "cell_type": "code",
   "execution_count": null,
   "metadata": {},
   "outputs": [],
   "source": []
  },
  {
   "cell_type": "code",
   "execution_count": null,
   "metadata": {},
   "outputs": [],
   "source": [
    "\n",
    "\"\"\"\n",
    "# 1.2 - Resample manuel\n",
    "\"\"\"\n",
    "# Résolution initiale de 10m sur S2A : on la passe à 100 et on crop l'image en même temps\n",
    "col1, col2 = 3000, 4000\n",
    "row1, row2 = 2000, 3000\n",
    "s2a_resamp_100 = rt.openGeoRaster(\n",
    "    rasterPath = b2_s2a_path,\n",
    "    crop = (col1, row1, col2, row2),\n",
    "    res = 100)\n",
    "\n",
    "# Print metadata\n",
    "print(s2a_resamp_100.shape())\n",
    "print(s2a_resamp_100.getPixelSize())\n",
    "s2a_resamp_100"
   ]
  },
  {
   "cell_type": "code",
   "execution_count": null,
   "metadata": {},
   "outputs": [],
   "source": [
    "\"\"\"\n",
    "# 1.3 - Reprojection manuelle\n",
    "\"\"\"\n",
    "\n",
    "# Système de projection initial : 32644 - On passe en 4326\n",
    "s2a_WGS84 = rt.openGeoRaster(\n",
    "    rasterPath = b2_s2a_path,\n",
    "    crop = (col1, row1, col2, row2),\n",
    "    epsg = 4326)\n",
    "s2a_WGS84.save(\"/media/zak/TD002/REMOTE_S/TELENVI_PACKAGE/tests/figures/reproj4326.tif\")\n",
    "s2a_WGS84.ds.GetProjection()"
   ]
  },
  {
   "cell_type": "code",
   "execution_count": null,
   "metadata": {},
   "outputs": [],
   "source": [
    "\"\"\"\n",
    "# Clip automatique : changement de résolution, de système de projection\n",
    "# et recalage des pixels sur ceux d'une autre image\n",
    "\"\"\"\n",
    "\n",
    "# Open the LS8 image with order to clip on the S2A image\n",
    "ls8_clipped_on_s2a = rt.openGeoRaster(\n",
    "    rasterPath = b2_ls8_path,\n",
    "    clip = b2_s2a_path)\n",
    "\n",
    "# Open the S2A image, to be allowed to compare themselves\n",
    "s2a = rt.openGeoRaster(b2_s2a_path)"
   ]
  },
  {
   "cell_type": "code",
   "execution_count": null,
   "metadata": {},
   "outputs": [],
   "source": [
    "# comparaison de la résolution\n",
    "print(\"RESOLUTIONS X ET Y\")\n",
    "print(ls8_clipped_on_s2a.getPixelSize())\n",
    "print(s2a.getPixelSize())\n",
    "\n",
    "# comparaison du nb lignes / cols\n",
    "print(\"\\nNB DE LIGNES / COLONNES\")\n",
    "print(ls8_clipped_on_s2a.shape())\n",
    "print(s2a.shape())\n",
    "\n",
    "# comparaison de l'origine\n",
    "print(\"\\nPOINT D'ORIGINE DU RASTER - (ANCRAGE NORD-OUEST)\")\n",
    "print(ls8_clipped_on_s2a.getOriginPoint())\n",
    "print(s2a.getOriginPoint())\n",
    "\n",
    "# comparaison du système de projection\n",
    "print(\"\\nSYSTEMES DE COORDONNEES IDENTIQUES\")\n",
    "print(ls8_clipped_on_s2a.ds.GetProjection() == s2a.ds.GetProjection())\n",
    "\n",
    "# Sauvegarde pour aller observer dans qgis\n",
    "ls8_clipped_on_s2a.save(\"/media/zak/TD002/REMOTE_S/TELENVI_PACKAGE/tests/figures/ls8_clipped_on_s2a.tif\")"
   ]
  },
  {
   "cell_type": "code",
   "execution_count": null,
   "metadata": {},
   "outputs": [],
   "source": [
    "\"\"\"\n",
    "Fabrication de mosaiques\n",
    "\"\"\"\n",
    "mosaic = ls8_clipped_on_s2a.makeMosaic(nbSquaresByAx=2)\n",
    "mosaic"
   ]
  },
  {
   "cell_type": "code",
   "execution_count": null,
   "metadata": {},
   "outputs": [],
   "source": [
    "\"\"\"\n",
    "Merge\n",
    "\"\"\"\n",
    "merged = rt.mergeGeoIms(mosaic)"
   ]
  },
  {
   "cell_type": "code",
   "execution_count": null,
   "metadata": {},
   "outputs": [],
   "source": [
    "merged"
   ]
  },
  {
   "cell_type": "code",
   "execution_count": null,
   "metadata": {},
   "outputs": [],
   "source": [
    "\"\"\"\n",
    "2 - Fonctionnalités associées à la gestion de stacks et à l'ouverture \n",
    "de plusieurs rasters contenus dans un même dossier en même temps\n",
    "\"\"\"\n",
    "\n",
    "\"\"\"\n",
    "Je souhaite créer un stack RGB avec mon image S2A, et pareil pour mon image LS8,\n",
    "uniquement sur l'emprise du polygone 0 de mon shapefile \"cuts\".\n",
    "\n",
    "├───data\n",
    "│   ├───S2A_L1C_20220603\n",
    "│   │       T44TMM_20220603T052651_B08.jp2\n",
    "│   │       T44TMM_20220603T052651_B02.jp2\n",
    "│   │       T44TMM_20220603T052651_B03.jp2\n",
    "│   │       T44TMM_20220603T052651_B04.jp2\n",
    "\"\"\"\n",
    "pass"
   ]
  },
  {
   "cell_type": "code",
   "execution_count": null,
   "metadata": {},
   "outputs": [],
   "source": [
    "from telenvi import raster_tools as rt\n",
    "from PIL import Image\n",
    "import os\n",
    "dir_S2A = r\"data\\S2A_L1C_20220603\"\n",
    "dir_LC08 = r\"data\\LC08_L1_20220411\"\n",
    "cuts = r\"/media/zak/TD002/REMOTE_S/TELENVI_PACKAGE/tests/data/cuts/cuts.shp\"\n",
    "\n",
    "S2A = rt.openManyGeoRaster(\n",
    "    directory = \"/media/zak/TD002/REMOTE_S/TELENVI_PACKAGE/tests/data/S2A_L1C_20220603\",\n",
    "    pattern = \"B[0-9]+.jp2\",\n",
    "    endKeyPos = -4,\n",
    "    crop = cuts,\n",
    "    pol = 0)"
   ]
  },
  {
   "cell_type": "code",
   "execution_count": null,
   "metadata": {},
   "outputs": [],
   "source": [
    "# Stackde tous les éléments du dictionnaire S2A\n",
    "stack_s2a = rt.stackGeoIms([S2A[key] for key in S2A])"
   ]
  },
  {
   "cell_type": "code",
   "execution_count": null,
   "metadata": {},
   "outputs": [],
   "source": [
    "# Affiche en RGB mais en changeant l'ordre des bandes\n",
    "# et en augmentant un peu la luminosité\n",
    "stack_s2a.rgbVisual(\n",
    "    colorMode = [0,1,2],\n",
    "    brightness = 1\n",
    ")"
   ]
  },
  {
   "cell_type": "code",
   "execution_count": null,
   "metadata": {},
   "outputs": [],
   "source": [
    "stack_s2a.save(r\"/media/zak/TD002/REMOTE_S/TELENVI_PACKAGE/tests/data/stack_S2A_L1C_20220603.tif\")"
   ]
  },
  {
   "cell_type": "code",
   "execution_count": null,
   "metadata": {},
   "outputs": [],
   "source": [
    "from osgeo import gdal\n",
    "import raster_tools as rt\n",
    "rt.chooseBandFromDs(ds=gdal.Open(r\"/media/zak/TD002/REMOTE_S/TELENVI_PACKAGE/tests/data/stack_S2A_L1C_20220603.tif\"), index=1)"
   ]
  },
  {
   "cell_type": "code",
   "execution_count": null,
   "metadata": {},
   "outputs": [],
   "source": [
    "from osgeo import gdal\n",
    "import raster_tools as rt\n",
    "p = r\"/media/zak/TD002/REMOTE_S/TELENVI_PACKAGE/tests/data/stack_S2A_L1C_20220603.tif\"\n",
    "print(rt.getDsPixelSize(p))\n",
    "print(rt.getDsOriginPoint(p))\n",
    "print(rt.getDsCoordsExtent(p))\n",
    "print(rt.getDsOrIndexGeomExtent(p))"
   ]
  },
  {
   "cell_type": "code",
   "execution_count": null,
   "metadata": {},
   "outputs": [],
   "source": [
    "import raster_tools as rt\n",
    "p = r\"/media/zak/TD002/REMOTE_S/TELENVI_PACKAGE/tests/data/stack_S2A_L1C_20220603.tif\"\n",
    "s = rt.openGeoRaster(p,(200,300,400,400), res=5, epsg=2154)"
   ]
  },
  {
   "cell_type": "code",
   "execution_count": null,
   "metadata": {},
   "outputs": [],
   "source": [
    "import raster_tools as rt\n",
    "from PIL import Image\n",
    "import os\n",
    "lp = r\"/media/zak/TD002/REMOTE_S/TELENVI_PACKAGE/tests/data/LC08_L1_20220411/LC08_L1TP_147031_20220411_20220419_02_T1_B2.TIF\"\n",
    "sp = r\"/media/zak/TD002/REMOTE_S/TELENVI_PACKAGE/tests/data/S2A_L1C_20220603/T44TMM_20220603T052651_B02.jp2\"\n",
    "cuts = r\"/media/zak/TD002/REMOTE_S/TELENVI_PACKAGE/tests/data/cuts/cuts.shp\"\n",
    "\n",
    "l = rt.openGeoRaster(lp)\n",
    "s = rt.openGeoRaster(sp)\n",
    "unshifted = l.cropFromRaster(sp, inplace = False)\n",
    "shifted = l.cropFromRaster(sp, shift = True, inplace = False)\n",
    "print(s.getOriginPoint())\n",
    "print(shifted.getOriginPoint())\n",
    "print(unshifted.getOriginPoint())"
   ]
  },
  {
   "cell_type": "code",
   "execution_count": null,
   "metadata": {},
   "outputs": [],
   "source": []
  }
 ],
 "metadata": {
  "kernelspec": {
   "display_name": "Python 3.10.5 ('rgdyn')",
   "language": "python",
   "name": "python3"
  },
  "language_info": {
   "codemirror_mode": {
    "name": "ipython",
    "version": 3
   },
   "file_extension": ".py",
   "mimetype": "text/x-python",
   "name": "python",
   "nbconvert_exporter": "python",
   "pygments_lexer": "ipython3",
   "version": "3.10.5"
  },
  "orig_nbformat": 4,
  "vscode": {
   "interpreter": {
    "hash": "56f746ac2e45b987f254b78b0e770e5526113bc17dcf4498e661c9fcbe40cdea"
   }
  }
 },
 "nbformat": 4,
 "nbformat_minor": 2
}
